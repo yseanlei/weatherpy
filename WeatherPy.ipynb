{
 "cells": [
  {
   "cell_type": "code",
   "execution_count": 1,
   "metadata": {
    "scrolled": true
   },
   "outputs": [],
   "source": [
    "# Dependencies and Setup\n",
    "import matplotlib.pyplot as plt\n",
    "import pandas as pd\n",
    "import numpy as np\n",
    "import requests\n",
    "import time\n",
    "import pprint\n",
    "\n",
    "# Import API key\n",
    "from config import apikey\n",
    "\n",
    "# Incorporated citipy to determine city based on latitude and longitude\n",
    "from citipy import citipy\n",
    "\n",
    "# Output File (CSV)\n",
    "output_data_file = \"output_data/cities.csv\"\n",
    "\n",
    "# Range of latitudes and longitudes\n",
    "lat_range = (-90, 90)\n",
    "lng_range = (-180, 180)"
   ]
  },
  {
   "cell_type": "markdown",
   "metadata": {},
   "source": [
    "## Generate Cities List"
   ]
  },
  {
   "cell_type": "code",
   "execution_count": 2,
   "metadata": {},
   "outputs": [
    {
     "data": {
      "text/plain": [
       "14"
      ]
     },
     "execution_count": 2,
     "metadata": {},
     "output_type": "execute_result"
    }
   ],
   "source": [
    "# List for holding lat_lngs and cities\n",
    "lat_lngs = []\n",
    "cities = []\n",
    "\n",
    "# Create a set of random lat and lng combinations\n",
    "lats = np.random.uniform(low=-90.000, high=90.000, size=15)\n",
    "lngs = np.random.uniform(low=-180.000, high=180.000, size=15)\n",
    "lat_lngs = zip(lats, lngs)\n",
    "\n",
    "# Identify nearest city for each lat, lng combination\n",
    "for lat_lng in lat_lngs:\n",
    "    city = citipy.nearest_city(lat_lng[0], lat_lng[1]).city_name\n",
    "    \n",
    "    # If the city is unique, then add it to a our cities list\n",
    "    if city not in cities:\n",
    "        cities.append(city)\n",
    "\n",
    "# Print the city count to confirm sufficient count\n",
    "len(cities)"
   ]
  },
  {
   "cell_type": "markdown",
   "metadata": {},
   "source": [
    "## Perform API Calls"
   ]
  },
  {
   "cell_type": "code",
   "execution_count": 3,
   "metadata": {},
   "outputs": [],
   "source": [
    "# OpenWeatherMap API Key\n",
    "api_key = apikey\n",
    "\n",
    "# Starting URL for Weather Map API Call\n",
    "url = \"http://api.openweathermap.org/data/2.5/weather?units=Imperial&APPID=\" + api_key \n"
   ]
  },
  {
   "cell_type": "code",
   "execution_count": 18,
   "metadata": {},
   "outputs": [
    {
     "name": "stdout",
     "output_type": "stream",
     "text": [
      "Beginning Date Retrieval\n",
      "---------------------------\n",
      "Processing Rerord 0 of set 1 | butaritari\n",
      "    http://api.openweathermap.org/data/2.5/weather?units=Imperial&APPID=424724647d94ea0dc593acb9551fb094&q=butaritari\n",
      "Processing Rerord 1 of set 1 | torbay\n",
      "    http://api.openweathermap.org/data/2.5/weather?units=Imperial&APPID=424724647d94ea0dc593acb9551fb094&q=torbay\n",
      "Processing Rerord 2 of set 1 | fairbanks\n",
      "    http://api.openweathermap.org/data/2.5/weather?units=Imperial&APPID=424724647d94ea0dc593acb9551fb094&q=fairbanks\n",
      "Processing Rerord 3 of set 1 | cockburn town\n",
      "    http://api.openweathermap.org/data/2.5/weather?units=Imperial&APPID=424724647d94ea0dc593acb9551fb094&q=cockburn town\n",
      "Processing Rerord 4 of set 1 | mrirt\n",
      "    http://api.openweathermap.org/data/2.5/weather?units=Imperial&APPID=424724647d94ea0dc593acb9551fb094&q=mrirt\n",
      "Processing Rerord 5 of set 1 | klaksvik\n",
      "    http://api.openweathermap.org/data/2.5/weather?units=Imperial&APPID=424724647d94ea0dc593acb9551fb094&q=klaksvik\n",
      "Processing Rerord 6 of set 1 | mahajanga\n",
      "    http://api.openweathermap.org/data/2.5/weather?units=Imperial&APPID=424724647d94ea0dc593acb9551fb094&q=mahajanga\n",
      "Processing Rerord 7 of set 1 | lebu\n",
      "    http://api.openweathermap.org/data/2.5/weather?units=Imperial&APPID=424724647d94ea0dc593acb9551fb094&q=lebu\n",
      "Processing Rerord 8 of set 1 | hobart\n",
      "    http://api.openweathermap.org/data/2.5/weather?units=Imperial&APPID=424724647d94ea0dc593acb9551fb094&q=hobart\n",
      "Processing Rerord 9 of set 1 | punta arenas\n",
      "    http://api.openweathermap.org/data/2.5/weather?units=Imperial&APPID=424724647d94ea0dc593acb9551fb094&q=punta arenas\n",
      "Processing Rerord 10 of set 1 | shingu\n",
      "    http://api.openweathermap.org/data/2.5/weather?units=Imperial&APPID=424724647d94ea0dc593acb9551fb094&q=shingu\n",
      "Processing Rerord 11 of set 1 | yellowknife\n",
      "    http://api.openweathermap.org/data/2.5/weather?units=Imperial&APPID=424724647d94ea0dc593acb9551fb094&q=yellowknife\n",
      "Processing Rerord 12 of set 1 | amderma\n",
      "    http://api.openweathermap.org/data/2.5/weather?units=Imperial&APPID=424724647d94ea0dc593acb9551fb094&q=amderma\n",
      "Processing Rerord 13 of set 1 | vila velha\n",
      "    http://api.openweathermap.org/data/2.5/weather?units=Imperial&APPID=424724647d94ea0dc593acb9551fb094&q=vila velha\n"
     ]
    }
   ],
   "source": [
    "citydf=pd.DataFrame({\"City\":[]})\n",
    "citydf[\"City\"]=cities\n",
    "print(\"Beginning Date Retrieval\\n\\\n",
    "---------------------------\")\n",
    "for index,row in citydf.iterrows():\n",
    "    surl=url+\"&q=\"+row[\"City\"]\n",
    "    response=requests.get(surl).json()\n",
    "    print(f'Processing Rerord {index % 50} of set {1+index//50} | {row[\"City\"]}\\n\\\n",
    "    {str(surl)}') \n",
    "    try:\n",
    "        citydf.loc[index,\"Cloudiness\"]=response[\"clouds\"][\"all\"]\n",
    "    except:\n",
    "        pass\n",
    "    try:\n",
    "        citydf.loc[index,\"Country\"]=response[\"sys\"][\"country\"]\n",
    "    except:\n",
    "        pass\n",
    "    try:\n",
    "        citydf.loc[index,\"Cloudiness\"]=response[\"clouds\"][\"all\"]\n",
    "    except:\n",
    "        pass\n",
    "    try:\n",
    "        citydf.loc[index,\"Date\"]=response[\"dt\"]\n",
    "    except:\n",
    "        pass\n",
    "    try:\n",
    "        citydf.loc[index,\"Humidity\"]=response[\"main\"][\"humidity\"]\n",
    "    except:\n",
    "        pass\n",
    "    try:\n",
    "        citydf.loc[index,\"Lat\"]=response[\"coord\"][\"lat\"]\n",
    "    except:\n",
    "        pass\n",
    "    try:\n",
    "        citydf.loc[index,\"Lat\"]=response[\"coord\"][\"lat\"]\n",
    "    except:\n",
    "        pass\n",
    "    try:\n",
    "        citydf.loc[index,\"Lng\"]=response[\"coord\"][\"lon\"]\n",
    "    except:\n",
    "        pass\n",
    "    try:\n",
    "        citydf.loc[index,\"Max Temp\"]=response[\"main\"][\"temp_max\"]\n",
    "    except:\n",
    "        pass\n",
    "    try:\n",
    "        citydf.loc[index,\"Wind Speed\"]=response[\"wind\"][\"speed\"]\n",
    "    except:\n",
    "        pass\n",
    "citydf=citydf.dropna(how=\"any\")"
   ]
  },
  {
   "cell_type": "code",
   "execution_count": 19,
   "metadata": {},
   "outputs": [
    {
     "data": {
      "text/plain": [
       "City          12\n",
       "Cloudiness    12\n",
       "Country       12\n",
       "Date          12\n",
       "Humidity      12\n",
       "Lat           12\n",
       "Lng           12\n",
       "Max Temp      12\n",
       "Wind Speed    12\n",
       "dtype: int64"
      ]
     },
     "execution_count": 19,
     "metadata": {},
     "output_type": "execute_result"
    }
   ],
   "source": [
    "citydf.count()"
   ]
  },
  {
   "cell_type": "code",
   "execution_count": 21,
   "metadata": {},
   "outputs": [
    {
     "data": {
      "text/html": [
       "<div>\n",
       "<style scoped>\n",
       "    .dataframe tbody tr th:only-of-type {\n",
       "        vertical-align: middle;\n",
       "    }\n",
       "\n",
       "    .dataframe tbody tr th {\n",
       "        vertical-align: top;\n",
       "    }\n",
       "\n",
       "    .dataframe thead th {\n",
       "        text-align: right;\n",
       "    }\n",
       "</style>\n",
       "<table border=\"1\" class=\"dataframe\">\n",
       "  <thead>\n",
       "    <tr style=\"text-align: right;\">\n",
       "      <th></th>\n",
       "      <th>City</th>\n",
       "      <th>Cloudiness</th>\n",
       "      <th>Country</th>\n",
       "      <th>Date</th>\n",
       "      <th>Humidity</th>\n",
       "      <th>Lat</th>\n",
       "      <th>Lng</th>\n",
       "      <th>Max Temp</th>\n",
       "      <th>Wind Speed</th>\n",
       "    </tr>\n",
       "  </thead>\n",
       "  <tbody>\n",
       "    <tr>\n",
       "      <th>0</th>\n",
       "      <td>butaritari</td>\n",
       "      <td>56.0</td>\n",
       "      <td>KI</td>\n",
       "      <td>1.547159e+09</td>\n",
       "      <td>99.0</td>\n",
       "      <td>3.07</td>\n",
       "      <td>172.79</td>\n",
       "      <td>85.34</td>\n",
       "      <td>9.31</td>\n",
       "    </tr>\n",
       "    <tr>\n",
       "      <th>1</th>\n",
       "      <td>torbay</td>\n",
       "      <td>90.0</td>\n",
       "      <td>CA</td>\n",
       "      <td>1.547158e+09</td>\n",
       "      <td>100.0</td>\n",
       "      <td>47.66</td>\n",
       "      <td>-52.73</td>\n",
       "      <td>39.20</td>\n",
       "      <td>8.05</td>\n",
       "    </tr>\n",
       "    <tr>\n",
       "      <th>2</th>\n",
       "      <td>fairbanks</td>\n",
       "      <td>40.0</td>\n",
       "      <td>US</td>\n",
       "      <td>1.547157e+09</td>\n",
       "      <td>73.0</td>\n",
       "      <td>64.84</td>\n",
       "      <td>-147.72</td>\n",
       "      <td>-22.01</td>\n",
       "      <td>3.36</td>\n",
       "    </tr>\n",
       "    <tr>\n",
       "      <th>3</th>\n",
       "      <td>cockburn town</td>\n",
       "      <td>56.0</td>\n",
       "      <td>TC</td>\n",
       "      <td>1.547159e+09</td>\n",
       "      <td>100.0</td>\n",
       "      <td>21.46</td>\n",
       "      <td>-71.14</td>\n",
       "      <td>76.48</td>\n",
       "      <td>8.86</td>\n",
       "    </tr>\n",
       "    <tr>\n",
       "      <th>5</th>\n",
       "      <td>klaksvik</td>\n",
       "      <td>64.0</td>\n",
       "      <td>FO</td>\n",
       "      <td>1.547157e+09</td>\n",
       "      <td>87.0</td>\n",
       "      <td>62.23</td>\n",
       "      <td>-6.59</td>\n",
       "      <td>46.40</td>\n",
       "      <td>16.11</td>\n",
       "    </tr>\n",
       "  </tbody>\n",
       "</table>\n",
       "</div>"
      ],
      "text/plain": [
       "            City  Cloudiness Country          Date  Humidity    Lat     Lng  \\\n",
       "0     butaritari        56.0      KI  1.547159e+09      99.0   3.07  172.79   \n",
       "1         torbay        90.0      CA  1.547158e+09     100.0  47.66  -52.73   \n",
       "2      fairbanks        40.0      US  1.547157e+09      73.0  64.84 -147.72   \n",
       "3  cockburn town        56.0      TC  1.547159e+09     100.0  21.46  -71.14   \n",
       "5       klaksvik        64.0      FO  1.547157e+09      87.0  62.23   -6.59   \n",
       "\n",
       "   Max Temp  Wind Speed  \n",
       "0     85.34        9.31  \n",
       "1     39.20        8.05  \n",
       "2    -22.01        3.36  \n",
       "3     76.48        8.86  \n",
       "5     46.40       16.11  "
      ]
     },
     "execution_count": 21,
     "metadata": {},
     "output_type": "execute_result"
    }
   ],
   "source": [
    "citydf.head()"
   ]
  },
  {
   "cell_type": "code",
   "execution_count": 7,
   "metadata": {},
   "outputs": [],
   "source": [
    "citydf.to_csv(\"cityweather.csv\",index=False,header=True)"
   ]
  },
  {
   "cell_type": "code",
   "execution_count": 43,
   "metadata": {},
   "outputs": [
    {
     "data": {
      "image/png": "[encoded data removed]",
      "text/plain": [
       "<Figure size 432x288 with 1 Axes>"
      ]
     },
     "metadata": {
      "needs_background": "light"
     },
     "output_type": "display_data"
    }
   ],
   "source": [
    "latemp=citydf.plot(kind=\"scatter\",x=\"Lat\",y=\"Max Temp\",facecolors=\"blue\",edgecolors=\"black\",title=\"City Latitude vs. Max Temperature (01/09/19)\")\n",
    "latemp.set_facecolor(\"lightgrey\")\n",
    "latemp.grid(color=\"white\")\n",
    "latemp.set_xlabel(\"Lattitude\")\n",
    "latemp.set_ylabel(\"Max Temperature(F)\")\n",
    "plt.savefig(\"temperature.png\")"
   ]
  },
  {
   "cell_type": "code",
   "execution_count": 44,
   "metadata": {},
   "outputs": [
    {
     "data": {
      "image/png": "[encoded data removed]",
      "text/plain": [
       "<Figure size 432x288 with 1 Axes>"
      ]
     },
     "metadata": {
      "needs_background": "light"
     },
     "output_type": "display_data"
    }
   ],
   "source": [
    "lathum=citydf.plot(kind=\"scatter\",x=\"Lat\",y=\"Max Temp\",facecolors=\"blue\",edgecolors=\"black\",title=\"City Latitude vs. Humidity (01/09/19)\")\n",
    "lathum.set_facecolor(\"lightgrey\")\n",
    "lathum.grid(color=\"white\")\n",
    "lathum.set_xlabel(\"Lattitude\")\n",
    "lathum.set_ylabel(\"Humidity(%)\")\n",
    "plt.savefig(\"humidity.png\")\n",
    "\n"
   ]
  },
  {
   "cell_type": "code",
   "execution_count": 45,
   "metadata": {},
   "outputs": [
    {
     "data": {
      "image/png": "[encoded data removed]",
      "text/plain": [
       "<Figure size 432x288 with 1 Axes>"
      ]
     },
     "metadata": {
      "needs_background": "light"
     },
     "output_type": "display_data"
    }
   ],
   "source": [
    "latcloud=citydf.plot(kind=\"scatter\",x=\"Lat\",y=\"Max Temp\",facecolors=\"blue\",edgecolors=\"black\",title=\"City Latitude vs. Cloudiness (01/09/19)\")\n",
    "latcloud.set_facecolor(\"lightgrey\")\n",
    "latcloud.grid(color=\"white\")\n",
    "latcloud.set_xlabel(\"Lattitude\")\n",
    "latcloud.set_ylabel(\"Cloudiness(%)\")\n",
    "plt.savefig(\"humidity.png\")\n"
   ]
  },
  {
   "cell_type": "code",
   "execution_count": 46,
   "metadata": {},
   "outputs": [
    {
     "data": {
      "image/png": "[encoded data removed]",
      "text/plain": [
       "<Figure size 432x288 with 1 Axes>"
      ]
     },
     "metadata": {
      "needs_background": "light"
     },
     "output_type": "display_data"
    }
   ],
   "source": [
    "latcloud=citydf.plot(kind=\"scatter\",x=\"Lat\",y=\"Max Temp\",facecolors=\"blue\",edgecolors=\"black\",title=\"City Latitude vs. Wind Speed (01/09/19)\")\n",
    "latcloud.set_facecolor(\"lightgrey\")\n",
    "latcloud.grid(color=\"white\")\n",
    "latcloud.set_xlabel(\"Lattitude\")\n",
    "latcloud.set_ylabel(\"Wind Speed (mph)\")\n",
    "plt.savefig(\"windspeed.png\")\n",
    "\n"
   ]
  }
 ],
 "metadata": {
  "anaconda-cloud": {},
  "kernelspec": {
   "display_name": "Python 3",
   "language": "python",
   "name": "python3"
  },
  "language_info": {
   "codemirror_mode": {
    "name": "ipython",
    "version": 3
   },
   "file_extension": ".py",
   "mimetype": "text/x-python",
   "name": "python",
   "nbconvert_exporter": "python",
   "pygments_lexer": "ipython3",
   "version": "3.7.0"
  }
 },
 "nbformat": 4,
 "nbformat_minor": 1
}
